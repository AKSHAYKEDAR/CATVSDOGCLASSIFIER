{
 "cells": [
  {
   "cell_type": "code",
   "execution_count": 12,
   "metadata": {},
   "outputs": [],
   "source": [
    "import tensorflow as tf    #tensorflow module lagega to make this cnn network \n",
    "from tensorflow import keras\n",
    "from tensorflow.keras.models import Sequential \n",
    "#hum model use kar rahe hai sequential \n",
    "#The Sequential function initializes a linear stack of layers. This allows us to add more layers later using the Dense module.\n",
    "from tensorflow.keras.layers import Dropout , Dense, Activation , Flatten, Conv2D, MaxPooling2D\n",
    "#ye functions / methods use karenge hum \n",
    "#Flatten is the function that converts the pooled feature map to a single column that is passed to the fully connected layer.\n",
    "#Dense adds the fully connected layer to the neural network.\n",
    "#Activation  se hum alag alag activation function use karenge like relu,sigmoid\n",
    "#Max pooling is a pooling operation that selects the maximum element from the region of the feature map covered by the filter.\n",
    "#the output after max-pooling layer would be a feature map containing the most prominent features of the previous feature map."
   ]
  },
  {
   "cell_type": "code",
   "execution_count": 13,
   "metadata": {},
   "outputs": [],
   "source": [
    "#X and y jo save kiya tha load karo\n",
    "import pickle\n",
    "\n",
    "X=pickle.load(open(\"X.pickle\",\"rb\"))\n",
    "y=pickle.load(open(\"y.pickle\",\"rb\"))\n"
   ]
  },
  {
   "cell_type": "code",
   "execution_count": 14,
   "metadata": {},
   "outputs": [
    {
     "data": {
      "text/plain": [
       "0"
      ]
     },
     "execution_count": 14,
     "metadata": {},
     "output_type": "execute_result"
    }
   ],
   "source": [
    "x=-9\n",
    "max(0,x)"
   ]
  },
  {
   "cell_type": "code",
   "execution_count": 15,
   "metadata": {},
   "outputs": [
    {
     "data": {
      "text/plain": [
       "(25000, 100, 100, 1)"
      ]
     },
     "execution_count": 15,
     "metadata": {},
     "output_type": "execute_result"
    }
   ],
   "source": [
    "#X and y ko numpy aaray mai convert so that model kaam kar paye in pr \n",
    "import numpy as np\n",
    "X= np.array(X)\n",
    "y = np.array(y)\n",
    "X.shape"
   ]
  },
  {
   "cell_type": "code",
   "execution_count": 16,
   "metadata": {},
   "outputs": [
    {
     "data": {
      "text/plain": [
       "(100, 100, 1)"
      ]
     },
     "execution_count": 16,
     "metadata": {},
     "output_type": "execute_result"
    }
   ],
   "source": [
    "X.shape[1:]"
   ]
  },
  {
   "cell_type": "code",
   "execution_count": 17,
   "metadata": {},
   "outputs": [],
   "source": [
    "#ye model hai\n",
    "model = keras.Sequential()\n",
    "\n",
    "model.add(keras.layers.Conv2D(32,(3,3),activation='relu',input_shape=X.shape[1:]))\n",
    "model.add(keras.layers.MaxPool2D(2,2))\n",
    "\n",
    "model.add(keras.layers.Conv2D(64,(3,3),activation='relu'))\n",
    "model.add(keras.layers.MaxPool2D(2,2))\n",
    "\n",
    "model.add(keras.layers.Conv2D(128,(3,3),activation='relu'))\n",
    "model.add(keras.layers.MaxPool2D(2,2))\n",
    "\n",
    "model.add(keras.layers.Conv2D(128,(3,3),activation='relu'))\n",
    "model.add(keras.layers.MaxPool2D(2,2))\n",
    "          \n",
    "model.add(keras.layers.Flatten())\n",
    "          \n",
    "model.add(keras.layers.Dense(512,activation='relu'))\n",
    "          \n",
    "model.add(keras.layers.Dense(1,activation='sigmoid')) \n"
   ]
  },
  {
   "cell_type": "code",
   "execution_count": 18,
   "metadata": {},
   "outputs": [
    {
     "name": "stdout",
     "output_type": "stream",
     "text": [
      "Model: \"sequential_1\"\n",
      "_________________________________________________________________\n",
      "Layer (type)                 Output Shape              Param #   \n",
      "=================================================================\n",
      "conv2d_4 (Conv2D)            (None, 98, 98, 32)        320       \n",
      "_________________________________________________________________\n",
      "max_pooling2d_4 (MaxPooling2 (None, 49, 49, 32)        0         \n",
      "_________________________________________________________________\n",
      "conv2d_5 (Conv2D)            (None, 47, 47, 64)        18496     \n",
      "_________________________________________________________________\n",
      "max_pooling2d_5 (MaxPooling2 (None, 23, 23, 64)        0         \n",
      "_________________________________________________________________\n",
      "conv2d_6 (Conv2D)            (None, 21, 21, 128)       73856     \n",
      "_________________________________________________________________\n",
      "max_pooling2d_6 (MaxPooling2 (None, 10, 10, 128)       0         \n",
      "_________________________________________________________________\n",
      "conv2d_7 (Conv2D)            (None, 8, 8, 128)         147584    \n",
      "_________________________________________________________________\n",
      "max_pooling2d_7 (MaxPooling2 (None, 4, 4, 128)         0         \n",
      "_________________________________________________________________\n",
      "flatten_1 (Flatten)          (None, 2048)              0         \n",
      "_________________________________________________________________\n",
      "dense_2 (Dense)              (None, 512)               1049088   \n",
      "_________________________________________________________________\n",
      "dense_3 (Dense)              (None, 1)                 513       \n",
      "=================================================================\n",
      "Total params: 1,289,857\n",
      "Trainable params: 1,289,857\n",
      "Non-trainable params: 0\n",
      "_________________________________________________________________\n"
     ]
    }
   ],
   "source": [
    "model.summary()"
   ]
  },
  {
   "cell_type": "code",
   "execution_count": 19,
   "metadata": {},
   "outputs": [],
   "source": [
    "model.compile(optimizer='adam',loss='binary_crossentropy',metrics=['accuracy'])"
   ]
  },
  {
   "cell_type": "code",
   "execution_count": 20,
   "metadata": {},
   "outputs": [
    {
     "name": "stdout",
     "output_type": "stream",
     "text": [
      "Epoch 1/10\n",
      "625/625 [==============================] - 196s 304ms/step - loss: 1.9848 - accuracy: 0.5188 - val_loss: 0.7001 - val_accuracy: 0.5090\n",
      "Epoch 2/10\n",
      "625/625 [==============================] - 174s 278ms/step - loss: 0.6791 - accuracy: 0.5563 - val_loss: 0.6530 - val_accuracy: 0.5942\n",
      "Epoch 3/10\n",
      "625/625 [==============================] - 143s 229ms/step - loss: 0.5971 - accuracy: 0.6823 - val_loss: 0.5229 - val_accuracy: 0.7406\n",
      "Epoch 4/10\n",
      "625/625 [==============================] - 145s 232ms/step - loss: 0.4793 - accuracy: 0.7733 - val_loss: 0.4387 - val_accuracy: 0.7982\n",
      "Epoch 5/10\n",
      "625/625 [==============================] - 149s 238ms/step - loss: 0.4069 - accuracy: 0.8126 - val_loss: 0.4252 - val_accuracy: 0.8066\n",
      "Epoch 6/10\n",
      "625/625 [==============================] - 154s 247ms/step - loss: 0.3410 - accuracy: 0.8501 - val_loss: 0.4125 - val_accuracy: 0.8338\n",
      "Epoch 7/10\n",
      "625/625 [==============================] - 144s 230ms/step - loss: 0.2857 - accuracy: 0.8773 - val_loss: 0.3470 - val_accuracy: 0.8494\n",
      "Epoch 8/10\n",
      "625/625 [==============================] - 143s 229ms/step - loss: 0.2264 - accuracy: 0.9053 - val_loss: 0.3718 - val_accuracy: 0.8502\n",
      "Epoch 9/10\n",
      "625/625 [==============================] - 144s 230ms/step - loss: 0.2019 - accuracy: 0.9170 - val_loss: 0.3902 - val_accuracy: 0.8474\n",
      "Epoch 10/10\n",
      "625/625 [==============================] - 150s 239ms/step - loss: 0.1692 - accuracy: 0.9319 - val_loss: 0.3760 - val_accuracy: 0.8478\n"
     ]
    },
    {
     "data": {
      "text/plain": [
       "<tensorflow.python.keras.callbacks.History at 0x1a52263de88>"
      ]
     },
     "execution_count": 20,
     "metadata": {},
     "output_type": "execute_result"
    }
   ],
   "source": [
    "model.fit(X,y,batch_size=32,epochs=10,validation_split=0.2)"
   ]
  },
  {
   "cell_type": "code",
   "execution_count": 9,
   "metadata": {},
   "outputs": [
    {
     "name": "stdout",
     "output_type": "stream",
     "text": [
      "2.4.1\n"
     ]
    }
   ],
   "source": [
    "print(tf.version.VERSION)"
   ]
  },
  {
   "cell_type": "code",
   "execution_count": 10,
   "metadata": {},
   "outputs": [
    {
     "data": {
      "text/plain": [
       "'C:\\\\Users\\\\aksha\\\\Desktop\\\\DOG CAT MODEL'"
      ]
     },
     "execution_count": 10,
     "metadata": {},
     "output_type": "execute_result"
    }
   ],
   "source": [
    "import os\n",
    "os.getcwd()"
   ]
  },
  {
   "cell_type": "code",
   "execution_count": 11,
   "metadata": {},
   "outputs": [],
   "source": [
    "model.save('dogcatcnn.h5')\n",
    "#model ko save karo with extension .h5"
   ]
  },
  {
   "cell_type": "code",
   "execution_count": null,
   "metadata": {},
   "outputs": [],
   "source": []
  },
  {
   "cell_type": "code",
   "execution_count": null,
   "metadata": {},
   "outputs": [],
   "source": []
  }
 ],
 "metadata": {
  "kernelspec": {
   "display_name": "Python 3",
   "language": "python",
   "name": "python3"
  },
  "language_info": {
   "codemirror_mode": {
    "name": "ipython",
    "version": 3
   },
   "file_extension": ".py",
   "mimetype": "text/x-python",
   "name": "python",
   "nbconvert_exporter": "python",
   "pygments_lexer": "ipython3",
   "version": "3.7.6"
  }
 },
 "nbformat": 4,
 "nbformat_minor": 4
}
