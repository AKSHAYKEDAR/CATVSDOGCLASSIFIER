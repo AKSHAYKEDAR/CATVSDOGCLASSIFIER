{
 "cells": [
  {
   "cell_type": "code",
   "execution_count": 1,
   "metadata": {},
   "outputs": [],
   "source": [
    "from tkinter import *\n",
    "\n",
    "# loading Python Imaging Library\n",
    "from PIL import ImageTk, Image\n",
    "\n",
    "# To get the dialog box to open when required\n",
    "from tkinter import filedialog\n",
    "\n",
    "from tkinter import messagebox\n"
   ]
  },
  {
   "cell_type": "code",
   "execution_count": null,
   "metadata": {},
   "outputs": [],
   "source": []
  },
  {
   "cell_type": "code",
   "execution_count": null,
   "metadata": {},
   "outputs": [],
   "source": []
  },
  {
   "cell_type": "code",
   "execution_count": 15,
   "metadata": {},
   "outputs": [],
   "source": [
    "def open_img():\n",
    "    global x\n",
    "    if(loaded==True):\n",
    "        l3=Label(root,text = \"Please load the MODEL first!!!\",fg=\"red\")\n",
    "        l3.place(x=root.winfo_width()/2, y=root.winfo_height()/2 + 20, anchor=\"center\")\n",
    "    else:\n",
    "        try:\n",
    "            # Select the Imagename from a folder\n",
    "            x = openfilename()\n",
    "\n",
    "            # opens the image\n",
    "            img = Image.open(x)\n",
    "\n",
    "            # resize the image and apply a high-quality down sampling filter\n",
    "            img = img.resize((250, 250), Image.ANTIALIAS)\n",
    "\n",
    "            # PhotoImage class is used to add image to widgets, icons etc\n",
    "            img = ImageTk.PhotoImage(img)\n",
    "\n",
    "            # create a label\n",
    "            panel = Label(root, image = img)\n",
    "\n",
    "            # set the image as img\n",
    "            panel.image = img\n",
    "            panel.place(relx=0.5, rely=0.5, anchor=CENTER)\n",
    "        except:\n",
    "            l4=Label(root,text = \"Please enter a image file\",fg=\"red\")\n",
    "            l4.place(x=root.winfo_width()/2, y=root.winfo_height()/2 + 40, anchor=\"center\")\n"
   ]
  },
  {
   "cell_type": "code",
   "execution_count": 16,
   "metadata": {},
   "outputs": [],
   "source": [
    "def openfilename():\n",
    "    \n",
    "    # open file dialog box to select image\n",
    "    # The dialogue box has a title \"Open\"\n",
    "    filename = filedialog.askopenfilename(title ='open')\n",
    "    return filename\n"
   ]
  },
  {
   "cell_type": "code",
   "execution_count": 24,
   "metadata": {},
   "outputs": [],
   "source": [
    "\n",
    "def load_model():\n",
    "    loaded=False\n",
    "    global model\n",
    "    if(loaded==False):\n",
    "        l1=Label(root,text = \"MODEL LOADING...\",fg=\"yellow\")\n",
    "        l1.place(x=root.winfo_width()/2, y=root.winfo_height()/2 - 180, anchor=\"center\")\n",
    "        import tensorflow as tf\n",
    "        model=tf.keras.models.load_model(\"dogcatcnn.h5\")\n",
    "        l2=Label(root,text = \"MODEL LOADED SUCCESSFULLY\",fg=\"green\")\n",
    "        l2.place(x=root.winfo_width()/2, y=root.winfo_height()/2 -160, anchor=\"center\")\n",
    "        loaded=True\n",
    "    else:\n",
    "        l1.after(1000, l1.destroy())\n",
    "        l2.after(1000, l2.destroy())\n",
    "        l5=Label(root,text = \"MODEL IS ALREADY LOADED\",fg=\"green\")\n",
    "        l5.place(x=root.winfo_width()/2, y=root.winfo_height()/2 -180, anchor=\"center\")"
   ]
  },
  {
   "cell_type": "code",
   "execution_count": 31,
   "metadata": {},
   "outputs": [],
   "source": [
    "def predict():\n",
    "    import numpy as np\n",
    "    import cv2\n",
    "    img = cv2.imread(x, cv2.IMREAD_GRAYSCALE)\n",
    "    img = cv2.resize(img,(100,100))\n",
    "    img = np.array(img)\n",
    "    img=img.reshape(1,100,100,1)\n",
    "    \n",
    "    #predict karne ke liye ye fun\n",
    "    prediction= model.predict(img)\n",
    "    l6=Label(root,text = prediction,fg=\"green\")\n",
    "    l6.place(x=root.winfo_width()/2, y=root.winfo_height()/2 +250, anchor=\"center\")\n",
    "    #humne save kiya tha 1- dog  0-cat\n",
    "    if prediction < 0.5 :\n",
    "        l7=Label(root,text = \"CAT \",fg=\"green\")\n",
    "        l7.place(x=root.winfo_width()/2, y=root.winfo_height()/2 +270, anchor=\"center\")\n",
    "    elif prediction >=0.5 :\n",
    "        l8=Label(root,text = \"DOG\",fg=\"green\")\n",
    "        l8.place(x=root.winfo_width()/2, y=root.winfo_height()/2 + 270, anchor=\"center\")"
   ]
  },
  {
   "cell_type": "code",
   "execution_count": null,
   "metadata": {},
   "outputs": [],
   "source": [
    "# Create a window\n",
    "root = Tk()\n",
    "\n",
    "# Set Title as Image Loader\n",
    "root.title(\"Image Loader\")\n",
    "\n",
    "# Set the resolution of window\n",
    "root.geometry(\"1050x600\")\n",
    "\n",
    "# Allow Window to be resizable\n",
    "root.resizable(width = False, height = False)\n",
    "\n",
    "global loaded \n",
    "loaded=False\n",
    "\n",
    "# Create a button and place it into the window\n",
    "fm = Frame(root)\n",
    "Button(fm, text='Load model',command=load_model).pack(side=TOP, expand=YES)\n",
    "Button(fm, text='select image',command=open_img).pack(side=TOP, expand=YES)\n",
    "Button(fm, text='Predict',command=predict).pack(side=TOP, expand=YES)\n",
    "fm.pack(fill=BOTH, expand=YES)\n",
    "\n",
    "\n",
    "root.mainloop()\n"
   ]
  },
  {
   "cell_type": "code",
   "execution_count": null,
   "metadata": {},
   "outputs": [],
   "source": []
  },
  {
   "cell_type": "code",
   "execution_count": null,
   "metadata": {},
   "outputs": [],
   "source": [
    "wd=Tk()"
   ]
  },
  {
   "cell_type": "code",
   "execution_count": null,
   "metadata": {},
   "outputs": [],
   "source": []
  }
 ],
 "metadata": {
  "kernelspec": {
   "display_name": "Python 3",
   "language": "python",
   "name": "python3"
  },
  "language_info": {
   "codemirror_mode": {
    "name": "ipython",
    "version": 3
   },
   "file_extension": ".py",
   "mimetype": "text/x-python",
   "name": "python",
   "nbconvert_exporter": "python",
   "pygments_lexer": "ipython3",
   "version": "3.7.6"
  }
 },
 "nbformat": 4,
 "nbformat_minor": 4
}
